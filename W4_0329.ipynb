{
  "nbformat": 4,
  "nbformat_minor": 0,
  "metadata": {
    "colab": {
      "provenance": [],
      "authorship_tag": "ABX9TyMPLi+PBYljXZ3Rt/mLfUCT",
      "include_colab_link": true
    },
    "kernelspec": {
      "name": "python3",
      "display_name": "Python 3"
    },
    "language_info": {
      "name": "python"
    }
  },
  "cells": [
    {
      "cell_type": "markdown",
      "metadata": {
        "id": "view-in-github",
        "colab_type": "text"
      },
      "source": [
        "<a href=\"https://colab.research.google.com/github/yskim0000/lanh/blob/main/W4_0329.ipynb\" target=\"_parent\"><img src=\"https://colab.research.google.com/assets/colab-badge.svg\" alt=\"Open In Colab\"/></a>"
      ]
    },
    {
      "cell_type": "markdown",
      "source": [
        "<**W3 review**>\n",
        "\n",
        "Number: Exercise\n",
        "\n",
        "4번  "
      ],
      "metadata": {
        "id": "IJ9ls8Jn3TKl"
      }
    },
    {
      "cell_type": "code",
      "source": [
        "#5번문제\n",
        "a_score = 85\n",
        "b_score = 92\n",
        "c_score = 76\n",
        "\n",
        "average_score = (a_score + b_score + c_score)/3\n",
        "\n",
        "#평균 내기\n",
        "print(average_score)\n",
        "\n",
        "#comparison operator 사용해서 값 비교\n",
        "print (a_score > average_score)\n",
        "print (b_score > average_score)\n",
        "print (c_score > average_score)\n"
      ],
      "metadata": {
        "colab": {
          "base_uri": "https://localhost:8080/"
        },
        "id": "eIcj6nfQ49GW",
        "outputId": "a121f26c-87ec-4e9d-b8cf-eda799de74e3"
      },
      "execution_count": null,
      "outputs": [
        {
          "output_type": "stream",
          "name": "stdout",
          "text": [
            "84.33333333333333\n",
            "True\n",
            "True\n",
            "False\n"
          ]
        }
      ]
    },
    {
      "cell_type": "markdown",
      "source": [
        "참고\n",
        "\n",
        "변수는 이름 지을 수 있지만 알파벳 사용.\n",
        "\n",
        "print / len 함수 등은 파이썬에서 기본으로 제공하는 함수들.\n",
        "\n",
        "이런 함수들 이름을 변수 이름으로 하지 말 것.\n"
      ],
      "metadata": {
        "id": "yJhx082r38fL"
      }
    },
    {
      "cell_type": "markdown",
      "source": [
        "////////////////////3주차 복습\n",
        "\n",
        "3주차 나머지 분량"
      ],
      "metadata": {
        "id": "ltQPDRD96WS3"
      }
    },
    {
      "cell_type": "markdown",
      "source": [
        "Adding Elements (LIST ONLY)\n",
        "\n",
        "List methods can be used for adding elements in a list\n",
        "\n",
        "\n",
        ".append()\n",
        "\n",
        "A list method that adds an element to the end of a list\n",
        "\n",
        "\n",
        "append : 리스트에 종속되어 있는 함수.\n"
      ],
      "metadata": {
        "id": "6F7fk33I8mLp"
      }
    },
    {
      "cell_type": "code",
      "source": [
        "a = [1, 2, 3, 4]\n",
        "\n",
        "a.append(5)\n",
        "print(a)"
      ],
      "metadata": {
        "colab": {
          "base_uri": "https://localhost:8080/"
        },
        "id": "rshs5nMk8j8-",
        "outputId": "e9b1927a-4e43-46ee-af24-31edb8066b45"
      },
      "execution_count": null,
      "outputs": [
        {
          "output_type": "stream",
          "name": "stdout",
          "text": [
            "[1, 2, 3, 4, 5]\n"
          ]
        }
      ]
    },
    {
      "cell_type": "markdown",
      "source": [
        ".extend()\n",
        "\n",
        "A list method that adds multiple elements to the end of a list\n",
        "\n",
        "---\n",
        "\n",
        "\n",
        "\n",
        "append는 하나의 element만. extend는 한번에 여러 개.\n"
      ],
      "metadata": {
        "id": "DCpnoJrM84Je"
      }
    },
    {
      "cell_type": "code",
      "source": [
        "a.extend([5, 6])\n",
        "print(a)"
      ],
      "metadata": {
        "colab": {
          "base_uri": "https://localhost:8080/"
        },
        "id": "gPOp1Pik9L53",
        "outputId": "dedaac2d-a098-4e81-a884-ef8794a5a427"
      },
      "execution_count": null,
      "outputs": [
        {
          "output_type": "stream",
          "name": "stdout",
          "text": [
            "[1, 2, 3, 4, 5, 5, 6]\n"
          ]
        }
      ]
    },
    {
      "cell_type": "markdown",
      "source": [
        "Deleting Elements (LIST ONLY)\n",
        "\n",
        "List method can be used for deleting elements in a list\n",
        "\n",
        ".pop()\n",
        "\n",
        "A list method that deletes and returns the last element from a list"
      ],
      "metadata": {
        "id": "Q05s3EQr9WQX"
      }
    },
    {
      "cell_type": "code",
      "source": [
        "b = a.pop()\n",
        "\n",
        "print(a)\n",
        "print(b)"
      ],
      "metadata": {
        "colab": {
          "base_uri": "https://localhost:8080/"
        },
        "id": "O8iMcx_u9YGj",
        "outputId": "482c7ded-3d21-4a3a-baed-c3a5002ef157"
      },
      "execution_count": null,
      "outputs": [
        {
          "output_type": "stream",
          "name": "stdout",
          "text": [
            "[1, 2, 3, 4, 5, 5]\n",
            "6\n"
          ]
        }
      ]
    },
    {
      "cell_type": "markdown",
      "source": [
        "Others\n",
        "\n",
        "There are other functions and methods that do some actions on sequences\n",
        "\n",
        "len()\n",
        "\n",
        "A function that returns the number of elements\n",
        "\n",
        "\n",
        "---\n",
        "\n",
        "\n",
        "\n",
        "** 스트링과 리스트에서 모두 사용"
      ],
      "metadata": {
        "id": "BLLf-70U9si0"
      }
    },
    {
      "cell_type": "code",
      "source": [
        "a = \"python\"\n",
        "print(len(a))\n",
        "\n",
        "\n",
        "b = [1, 2, 3, 5, 7, 11, 13, 17]\n",
        "print(len(b))\n"
      ],
      "metadata": {
        "colab": {
          "base_uri": "https://localhost:8080/"
        },
        "id": "WsHy71KA9yGq",
        "outputId": "87f1e44f-ec7b-4729-ac16-28a26efcca39"
      },
      "execution_count": null,
      "outputs": [
        {
          "output_type": "stream",
          "name": "stdout",
          "text": [
            "6\n",
            "8\n"
          ]
        }
      ]
    },
    {
      "cell_type": "markdown",
      "source": [
        ".replace() (STRING ONLY)\n",
        "\n",
        "A string method that returns a replaced string\n",
        "\n",
        "\n",
        "---\n",
        "\n",
        "\n",
        "**append와의 차이점 : append는 a.append 이렇게 쓰면 굳이 a = a.append이렇게 할 필요 없음. replace는 a=~ 이런식으로 정립해주어야 함."
      ],
      "metadata": {
        "id": "rX5SSSMY98ZX"
      }
    },
    {
      "cell_type": "code",
      "source": [
        "a = \"Hello world!\"\n",
        "print(a)\n",
        "\n",
        "a = a.replace(\"world\", \"python\")\n",
        "print(a)"
      ],
      "metadata": {
        "colab": {
          "base_uri": "https://localhost:8080/"
        },
        "id": "UZzEDPgJ99Wr",
        "outputId": "caefa49b-498d-4b0f-bdcf-f553c028464b"
      },
      "execution_count": null,
      "outputs": [
        {
          "output_type": "stream",
          "name": "stdout",
          "text": [
            "Hello world!\n",
            "Hello python!\n"
          ]
        }
      ]
    },
    {
      "cell_type": "markdown",
      "source": [
        ".split() (STRING ONLY)\n",
        "\n",
        "A string method that splits a string and returns a list of substrings\n",
        "\n",
        "\n",
        "\n",
        "---\n",
        "\n",
        "\n",
        "자주 쓰이지는 않지만  가끔 유용하게 쓸 수 있음\n",
        "\n",
        "ex. 발달사 텍스트 분석에서 단어가 몇 개인지 계산\n",
        "\n",
        "\n",
        "\n"
      ],
      "metadata": {
        "id": "tIgsyyOY-Ant"
      }
    },
    {
      "cell_type": "code",
      "source": [
        "a = \"red green blue\"\n",
        "print(a.split(\" \"))\n",
        "#space를 기준으로 이 스트링을 잘라줘. >> 총 세 개의 스트링이 쪼개어져서 나온 결과값은 리스트로 돌려줌."
      ],
      "metadata": {
        "colab": {
          "base_uri": "https://localhost:8080/"
        },
        "id": "UxmTZIRN-D6K",
        "outputId": "e1230790-47f0-4a7e-b4c3-de633cb5806c"
      },
      "execution_count": null,
      "outputs": [
        {
          "output_type": "stream",
          "name": "stdout",
          "text": [
            "['red', 'green', 'blue']\n"
          ]
        }
      ]
    },
    {
      "cell_type": "markdown",
      "source": [
        "Sequence: Exercise\n",
        "Combine these two names to create a full name.\n",
        "\n",
        "First Name: Alice\n",
        "Last Name: Smith"
      ],
      "metadata": {
        "id": "HMBDVHc3_rQB"
      }
    },
    {
      "cell_type": "code",
      "source": [
        "a = \"Alice\"\n",
        "b = \" Smith\" #이름이니까 스페이스 만들어주기\n",
        "a+b"
      ],
      "metadata": {
        "colab": {
          "base_uri": "https://localhost:8080/",
          "height": 36
        },
        "id": "ZbqvZ14q_q96",
        "outputId": "d5c17963-82ea-481d-8027-54132425b67c"
      },
      "execution_count": null,
      "outputs": [
        {
          "output_type": "execute_result",
          "data": {
            "text/plain": [
              "'Alice Smith'"
            ],
            "application/vnd.google.colaboratory.intrinsic+json": {
              "type": "string"
            }
          },
          "metadata": {},
          "execution_count": 14
        }
      ]
    },
    {
      "cell_type": "markdown",
      "source": [
        "You have two guest lists for a party. Combine them to a single list.\n",
        "\n",
        "Dinner Guests: Chloe, Mark\n",
        "\n",
        "Party Guests: Charlie, Hanna"
      ],
      "metadata": {
        "id": "MlsPq8xhAQcY"
      }
    },
    {
      "cell_type": "code",
      "source": [
        "dinner_guests = {\"Chloe\", \"Mark\"}\n",
        "party_guests = {\"Charlie\",\"Hanna\"}\n",
        "dinner_guests + party_guests #틀림\n"
      ],
      "metadata": {
        "colab": {
          "base_uri": "https://localhost:8080/",
          "height": 180
        },
        "id": "ziFrChIPARdN",
        "outputId": "a509efd6-8d89-4a8d-e316-b37c22c972d9"
      },
      "execution_count": null,
      "outputs": [
        {
          "output_type": "error",
          "ename": "TypeError",
          "evalue": "unsupported operand type(s) for +: 'set' and 'set'",
          "traceback": [
            "\u001b[0;31m---------------------------------------------------------------------------\u001b[0m",
            "\u001b[0;31mTypeError\u001b[0m                                 Traceback (most recent call last)",
            "\u001b[0;32m<ipython-input-19-bd773c2cbb5a>\u001b[0m in \u001b[0;36m<cell line: 3>\u001b[0;34m()\u001b[0m\n\u001b[1;32m      1\u001b[0m \u001b[0mdinner_guests\u001b[0m \u001b[0;34m=\u001b[0m \u001b[0;34m{\u001b[0m\u001b[0;34m\"Chloe\"\u001b[0m\u001b[0;34m,\u001b[0m \u001b[0;34m\"Mark\"\u001b[0m\u001b[0;34m}\u001b[0m\u001b[0;34m\u001b[0m\u001b[0;34m\u001b[0m\u001b[0m\n\u001b[1;32m      2\u001b[0m \u001b[0mparty_guests\u001b[0m \u001b[0;34m=\u001b[0m \u001b[0;34m{\u001b[0m\u001b[0;34m\"Charlie\"\u001b[0m\u001b[0;34m,\u001b[0m\u001b[0;34m\"Hanna\"\u001b[0m\u001b[0;34m}\u001b[0m\u001b[0;34m\u001b[0m\u001b[0;34m\u001b[0m\u001b[0m\n\u001b[0;32m----> 3\u001b[0;31m \u001b[0mdinner_guests\u001b[0m \u001b[0;34m+\u001b[0m \u001b[0mparty_guests\u001b[0m\u001b[0;34m\u001b[0m\u001b[0;34m\u001b[0m\u001b[0m\n\u001b[0m",
            "\u001b[0;31mTypeError\u001b[0m: unsupported operand type(s) for +: 'set' and 'set'"
          ]
        }
      ]
    },
    {
      "cell_type": "markdown",
      "source": [
        "\n",
        "You want to add items to a shopping cart list.\n",
        "\n",
        "Create a shopping cart list and add new item strings (\"Apples\", \"Breads\", \"Milk\").\n",
        "\n",
        "---\n",
        "\n",
        "\n",
        "\n",
        "** 빈 리스트를 만들어놓고 append로 하나하나 추가하는 작업을 많이 함"
      ],
      "metadata": {
        "id": "TCKpptkFA2eK"
      }
    },
    {
      "cell_type": "code",
      "source": [
        "shopping_cart=() #틀림\n",
        "shopping_cart.extend({\"Apples\", \"Bread\", \"Milk\"})\n",
        "shopping_cart"
      ],
      "metadata": {
        "colab": {
          "base_uri": "https://localhost:8080/",
          "height": 180
        },
        "id": "_LsXwze3A_BD",
        "outputId": "2d5a8638-3b1c-46c3-ae0c-90f2c839f06a"
      },
      "execution_count": null,
      "outputs": [
        {
          "output_type": "error",
          "ename": "AttributeError",
          "evalue": "'tuple' object has no attribute 'extend'",
          "traceback": [
            "\u001b[0;31m---------------------------------------------------------------------------\u001b[0m",
            "\u001b[0;31mAttributeError\u001b[0m                            Traceback (most recent call last)",
            "\u001b[0;32m<ipython-input-23-4bad317c4a95>\u001b[0m in \u001b[0;36m<cell line: 2>\u001b[0;34m()\u001b[0m\n\u001b[1;32m      1\u001b[0m \u001b[0mshopping_cart\u001b[0m\u001b[0;34m=\u001b[0m\u001b[0;34m(\u001b[0m\u001b[0;34m)\u001b[0m\u001b[0;34m\u001b[0m\u001b[0;34m\u001b[0m\u001b[0m\n\u001b[0;32m----> 2\u001b[0;31m \u001b[0mshopping_cart\u001b[0m\u001b[0;34m.\u001b[0m\u001b[0mextend\u001b[0m\u001b[0;34m(\u001b[0m\u001b[0;34m{\u001b[0m\u001b[0;34m\"Apples\"\u001b[0m\u001b[0;34m,\u001b[0m \u001b[0;34m\"Bread\"\u001b[0m\u001b[0;34m,\u001b[0m \u001b[0;34m\"Milk\"\u001b[0m\u001b[0;34m}\u001b[0m\u001b[0;34m)\u001b[0m\u001b[0;34m\u001b[0m\u001b[0;34m\u001b[0m\u001b[0m\n\u001b[0m\u001b[1;32m      3\u001b[0m \u001b[0mshopping_cart\u001b[0m\u001b[0;34m\u001b[0m\u001b[0;34m\u001b[0m\u001b[0m\n",
            "\u001b[0;31mAttributeError\u001b[0m: 'tuple' object has no attribute 'extend'"
          ]
        }
      ]
    },
    {
      "cell_type": "markdown",
      "source": [
        "\n",
        "Extract the month from a date string.\n",
        "\n",
        "\"2024-03-22\""
      ],
      "metadata": {
        "id": "3rTRSE6qBfo-"
      }
    },
    {
      "cell_type": "code",
      "source": [
        "date_string = \"2024-03-22\" #-를 기준으로 쪼개기\n",
        "split_strings = date_string.split(\"-\")\n",
        "split_strings"
      ],
      "metadata": {
        "colab": {
          "base_uri": "https://localhost:8080/"
        },
        "id": "1BFLJbsFBiIu",
        "outputId": "ba1d30f2-f18c-47e4-dff9-07dfeb29fc3f"
      },
      "execution_count": null,
      "outputs": [
        {
          "output_type": "execute_result",
          "data": {
            "text/plain": [
              "['2024', '03', '22']"
            ]
          },
          "metadata": {},
          "execution_count": 21
        }
      ]
    },
    {
      "cell_type": "code",
      "source": [
        "print(split_strings[1]) #split 사용\n"
      ],
      "metadata": {
        "colab": {
          "base_uri": "https://localhost:8080/"
        },
        "id": "ii84BPjhB82A",
        "outputId": "4eb9be32-c54e-4fe9-9a33-a94671549e94"
      },
      "execution_count": null,
      "outputs": [
        {
          "output_type": "stream",
          "name": "stdout",
          "text": [
            "03\n"
          ]
        }
      ]
    },
    {
      "cell_type": "code",
      "source": [
        "date_string = \"2024-03-22\" #바로 구하기 (코드는 최대한 짧게 쓰는게 더 낫다.)\n",
        "date_string[5:7]"
      ],
      "metadata": {
        "colab": {
          "base_uri": "https://localhost:8080/",
          "height": 36
        },
        "id": "ms6zSFdCCT7k",
        "outputId": "6b1e7469-cf3d-4674-adc2-41060ae31f08"
      },
      "execution_count": null,
      "outputs": [
        {
          "output_type": "execute_result",
          "data": {
            "text/plain": [
              "'03'"
            ],
            "application/vnd.google.colaboratory.intrinsic+json": {
              "type": "string"
            }
          },
          "metadata": {},
          "execution_count": 25
        }
      ]
    },
    {
      "cell_type": "markdown",
      "source": [
        "Mapping: Dictionary\n",
        "\n",
        "A collection of key-value data pairs\n",
        "\n",
        "Can access data by keys\n",
        "\n",
        "\n",
        "---\n",
        "list와 차이점 : [1,2,3] [1,3,2]는 다른 리스트. 순서를 엄격히 지키기 때문.\n",
        "dict는 순서가 없음. 매핑이 되어있음\n",
        "\n",
        "{} 중괄호 사용, {key(단어) : value(의미)}\n",
        "\n",
        "관습적으로 key 는 string\n",
        "\n",
        "\n",
        "\n",
        "---\n",
        "Accessing Value\n",
        "\n",
        "Operator(ex. print) can be used for accessing values with keys\n",
        "\n",
        "Updating existing Value\n",
        "\n",
        "Operators can be used for updating existing values\n",
        "\n"
      ],
      "metadata": {
        "id": "CUPiD_UuGC6f"
      }
    },
    {
      "cell_type": "code",
      "source": [
        "a = {\"name\": \"Luna\", \"age\": 20}"
      ],
      "metadata": {
        "id": "Df9yx_7OGCqq"
      },
      "execution_count": null,
      "outputs": []
    },
    {
      "cell_type": "markdown",
      "source": [
        "Updating existing Value\n",
        "\n",
        "Operators can be used for updating existing values\n"
      ],
      "metadata": {
        "id": "QbQvgGsGJT8B"
      }
    },
    {
      "cell_type": "code",
      "source": [
        "print(a)\n",
        "\n",
        "a[\"name\"] = \"Jay\"\n",
        "print(a)\n"
      ],
      "metadata": {
        "colab": {
          "base_uri": "https://localhost:8080/"
        },
        "id": "YJFLZRGoJWPk",
        "outputId": "5fdd5102-d8ca-4fb3-a770-071f2f169e7e"
      },
      "execution_count": null,
      "outputs": [
        {
          "output_type": "stream",
          "name": "stdout",
          "text": [
            "{'name': 'Luna', 'age': 20}\n",
            "{'name': 'Jay', 'age': 20}\n"
          ]
        }
      ]
    },
    {
      "cell_type": "markdown",
      "source": [
        "Adding Key & Value\n",
        "\n",
        "Operators can be used for adding new keys and values\n",
        "\n",
        "list에서 쓰는 append보다 간단함. dict는 없는 key를 쓰면 추가가 되는데 list는 append를 써서 따로 추가해주어야함\n",
        "\n",
        "\n",
        "반드시 key와 value를 함께 추가해 주어야함."
      ],
      "metadata": {
        "id": "zNTGaTCDJZdP"
      }
    },
    {
      "cell_type": "code",
      "source": [
        "# Adding a key-value pair\n",
        "\n",
        "a[\"is_student\"] = True\n",
        "print(a)\n"
      ],
      "metadata": {
        "colab": {
          "base_uri": "https://localhost:8080/"
        },
        "id": "TTzy553uJe7I",
        "outputId": "77ff0ef2-b51e-4510-c863-91fd314f1abe"
      },
      "execution_count": null,
      "outputs": [
        {
          "output_type": "stream",
          "name": "stdout",
          "text": [
            "{'name': 'Jay', 'age': 20, 'is_student': True}\n"
          ]
        }
      ]
    },
    {
      "cell_type": "markdown",
      "source": [
        "Others\n",
        "There are other functions and methods that do some actions on dictionaries\n",
        "\n",
        "\n",
        ".keys()\n",
        "\n",
        "A dictionary method that returns the keys of a dictionary\n",
        "\n",
        "print(a.keys())\n",
        "\n",
        "\n",
        ".values()\n",
        "\n",
        "A dictionary method that returns the values of a dictionary\n",
        "\n",
        "print(a.values())"
      ],
      "metadata": {
        "id": "xHHpWlL9Kezp"
      }
    },
    {
      "cell_type": "markdown",
      "source": [
        "\n",
        "Create a phonebook as a dictionary and access Emily's phone number.\n",
        "\n",
        "Phonebook:\n",
        "\n",
        "name\tphone number\n",
        "\n",
        "Emily\t123-456-7890\n",
        "\n",
        "Bob\t987-654-3210"
      ],
      "metadata": {
        "id": "JGrpoNV_LCs-"
      }
    },
    {
      "cell_type": "code",
      "source": [
        "#key : name / value : phone number\n",
        "phonebook={\"Elmily\" : \"123-456-7890\", \"Bob\" : \"987-654-3210\"}\n",
        "print #list처럼 값에 접근할 때는 대괄호 사용\n"
      ],
      "metadata": {
        "colab": {
          "base_uri": "https://localhost:8080/"
        },
        "id": "4u5f_vz7LCQ2",
        "outputId": "34759651-725f-42fc-abe5-ab8e6c6179f7"
      },
      "execution_count": null,
      "outputs": [
        {
          "output_type": "execute_result",
          "data": {
            "text/plain": [
              "<function print>"
            ]
          },
          "metadata": {},
          "execution_count": 35
        }
      ]
    },
    {
      "cell_type": "markdown",
      "source": [
        "Boolean\n",
        "\n",
        "string도 아니고 참과 거짓만을 가려주는 것.\n",
        "\n",
        "Comparison\n",
        "\n",
        "Comparison operators can be used for data comparisons\n",
        "\n",
        "\n",
        "//////\n",
        "\n",
        "\n",
        "Condition\n",
        "\n",
        "Logical operators can be used for forming conditions\n",
        "\n",
        "and: returns True if two operands are both True (앞의 불리안, 뒤의 불리안이 모두 true이 경우)\n",
        "\n",
        "or: returns True if at least one of the operands is True >> 둘 중 하나가 참이면 참\n",
        "\n",
        "not: returns true if operand is false and vice versa >> 반대의 불리안 값 출력\n",
        "\n",
        ">>특정 작업을 할 지 안할 지 결정할 때 사용"
      ],
      "metadata": {
        "id": "dBwq7ZcpL_Z-"
      }
    },
    {
      "cell_type": "markdown",
      "source": [
        "Chris is going to stay home if it is raining or snowing outside.\n",
        "Check if Chris will go out today.\n",
        "\n",
        "\n",
        "weather\tstatus\n",
        "\n",
        "rain\tfalse\n",
        "\n",
        "snow\ttrue\n"
      ],
      "metadata": {
        "id": "0B9JrRS_NTHQ"
      }
    },
    {
      "cell_type": "code",
      "source": [
        "is_raining = False\n",
        "is_snowing = True\n",
        "\n",
        "will_stay_home = is_raining or is_snowing\n",
        "print(will_stay_home)\n"
      ],
      "metadata": {
        "colab": {
          "base_uri": "https://localhost:8080/"
        },
        "id": "YUZXezn_L_Lo",
        "outputId": "9210ec25-806e-410f-a399-ec1c62e303b6"
      },
      "execution_count": null,
      "outputs": [
        {
          "output_type": "stream",
          "name": "stdout",
          "text": [
            "True\n"
          ]
        }
      ]
    },
    {
      "cell_type": "markdown",
      "source": [
        "Check if you have a task to complete using not operator.\n",
        "\n",
        "task_completed = false"
      ],
      "metadata": {
        "id": "-Y03LQDQOLjv"
      }
    },
    {
      "cell_type": "code",
      "source": [
        "task_completed = False\n",
        "task_to_complete = not task_completed\n",
        "print(task_to_complete)\n"
      ],
      "metadata": {
        "colab": {
          "base_uri": "https://localhost:8080/"
        },
        "id": "FxBt4aYGOKbW",
        "outputId": "1e41be89-89f9-4b5b-a926-c093a45e86c4"
      },
      "execution_count": null,
      "outputs": [
        {
          "output_type": "stream",
          "name": "stdout",
          "text": [
            "True\n"
          ]
        }
      ]
    },
    {
      "cell_type": "markdown",
      "source": [
        "You need to verify if a customer is over 18 and has a valid ID to purchase a product.\n",
        "\n",
        "Customer\n",
        "\n",
        "19 years old\n",
        "\n",
        "has no ID card\n",
        "(나이, 신분증 유무 - 조건이 2개)\n"
      ],
      "metadata": {
        "id": "w_QmkvReOgNL"
      }
    },
    {
      "cell_type": "code",
      "source": [
        "age = 19\n",
        "age_qualified = age > 18    #comparison operator과 logical operator를 섞어서 쓸 수 있는 게 불리안\n",
        "has_card = False\n",
        "\n",
        "print(age_qualified and has_card)\n"
      ],
      "metadata": {
        "colab": {
          "base_uri": "https://localhost:8080/"
        },
        "id": "49Zn0YcoOm_6",
        "outputId": "552ebf8d-1fc8-4877-f7aa-d34fba65676a"
      },
      "execution_count": null,
      "outputs": [
        {
          "output_type": "stream",
          "name": "stdout",
          "text": [
            "False\n"
          ]
        }
      ]
    },
    {
      "cell_type": "markdown",
      "source": [
        "# Week 4:\n",
        "\n",
        "## Control Flows & Functions"
      ],
      "metadata": {
        "id": "ILPkotzuPzE1"
      }
    },
    {
      "cell_type": "markdown",
      "source": [
        "Control flow : 세 종류 : 조건에 따라 작업을 다르게 하는 것 (어떤 순서대로 풀어나갈 것인가.) / 특정 작업을 반복하는 것 (loop을 정해진 숫자만큼 도는 것) / loop을 특정 조건을 만족하는 경우 무한대로 도는 것\n",
        "\n",
        "\n",
        "\n"
      ],
      "metadata": {
        "id": "IXVb7gpuP6d-"
      }
    },
    {
      "cell_type": "markdown",
      "source": [
        "## if\n",
        "\n",
        "Conditionally executes code block based on whether a certain condition is true or false\n",
        "\n",
        "Condition\n",
        "\n",
        "An expression that evaluates to either True or False"
      ],
      "metadata": {
        "id": "k7Y0KrF4Rff3"
      }
    },
    {
      "cell_type": "code",
      "source": [
        "temperature = 32         # 이 숫자를 20으로 하면 아무것도 출력되지 않음\n",
        "\n",
        "print(temperature >= 32)  #특정 조건을 충족하면 특정 메세지를 출력하는 조건문.\n",
        "\n",
        "\n",
        "# Used as condition in if statement\n",
        "\n",
        "if temperature > 30:       #조건이 끝났음을 :으로 표시\n",
        "  print(\"The weather is hot.\")   #들여쓰기(인덴트) 꼭 해야됨. if문에 종속된 print임을 표시하는 것임\n",
        "\n"
      ],
      "metadata": {
        "colab": {
          "base_uri": "https://localhost:8080/"
        },
        "id": "nnjiERaNP5Ol",
        "outputId": "013ec46c-1c3e-4e14-fab5-79c06e08a8a1"
      },
      "execution_count": null,
      "outputs": [
        {
          "output_type": "stream",
          "name": "stdout",
          "text": [
            "True\n",
            "The weather is hot.\n"
          ]
        }
      ]
    },
    {
      "cell_type": "markdown",
      "source": [
        "# else\n",
        "\n",
        "Executes code block only if the condition in the if statement is False\n",
        "\n",
        "if가 만족되지 않은 경우 다른 코드를 돌리게 하고 싶을 때 사용\n",
        "\n",
        "# elif\n",
        "Used to check for multiple conditions\n",
        "\n",
        "조건을 여러 개 다는 것. else if의 줄임말.\n",
        "\n",
        "조건 1을 만족하지 않아. 그렇다면 이 조건..\n",
        "\n",
        "이 elif는 여러 개 달 수 있다. 조건을 여러 개 달고 싶으면 if문을 한 번 쓰고 elif를 여러 번 쓰면 됨\n",
        "\n",
        "**이때 조건 하나 만족하면 나머지 아래의 조건들은 모두 무시됨\n",
        "\n",
        "# Complex Condition\n",
        "\n",
        "Comparison operators and logical operators can be used together\n",
        "\n",
        "condition을 복잡하게 만들 수 있도록 하는 것.\n",
        "\n"
      ],
      "metadata": {
        "id": "UwThb3nhTxka"
      }
    },
    {
      "cell_type": "code",
      "source": [],
      "metadata": {
        "id": "cv53sFM1T7Lo"
      },
      "execution_count": null,
      "outputs": []
    }
  ]
}