{
  "nbformat": 4,
  "nbformat_minor": 0,
  "metadata": {
    "colab": {
      "provenance": [],
      "authorship_tag": "ABX9TyN7uTCzg4mg9I+UHULnlWRC",
      "include_colab_link": true
    },
    "kernelspec": {
      "name": "python3",
      "display_name": "Python 3"
    },
    "language_info": {
      "name": "python"
    }
  },
  "cells": [
    {
      "cell_type": "markdown",
      "metadata": {
        "id": "view-in-github",
        "colab_type": "text"
      },
      "source": [
        "<a href=\"https://colab.research.google.com/github/yskim0000/lanh/blob/main/midterm.ipynb\" target=\"_parent\"><img src=\"https://colab.research.google.com/assets/colab-badge.svg\" alt=\"Open In Colab\"/></a>"
      ]
    },
    {
      "cell_type": "markdown",
      "source": [
        "Midterm\n",
        "\n",
        "시험 범위: WEEK 1 - 6\n",
        "\n",
        "시험 방법: Blackboard - 과제 및 시험란 - midterm\n",
        "\n",
        "시험 장소: 강의실\n",
        "\n",
        "시험 일시: 4/26 3~4pm\n",
        "\n",
        "오픈북, 20-30문제 정도.\n",
        "\n"
      ],
      "metadata": {
        "id": "pOe_Je6r8ULr"
      }
    },
    {
      "cell_type": "markdown",
      "source": [
        "#1주차 범위는 자료만 봐도 알 수 있을 정도로만 낼 것.\n",
        "\n",
        "1. 파이썬은 다양한 곳에서 쓸 수 있고 다른 언어에 비해 활용성이 높다.\n",
        "\n",
        "2. 파이썬은 처음 사용하는 사람도 쉽게 사용할 수 있다.\n",
        "\n",
        "3. 파이썬의 사용자가 많기 때문에 다양한 이점이 있다.\n",
        "\n",
        "4."
      ],
      "metadata": {
        "id": "rgEso6ra9-h5"
      }
    },
    {
      "cell_type": "markdown",
      "source": [
        "# 2주차 : 발달사\n",
        "\n",
        "\n",
        "고대 : 문법, 단어 복잡. 다른민족이 살고 있다가 독일 계통 지방의 부족들이 영국 섬으로 넘어간 것이 고대 영어의 시작. 대표적으로 Angle, Sanxon 족들이 있다. 그들이 기존의 켈트족 사람들에게 자신의 독일계통 언어를 전파했고 그것이 영어로 발전. // 대부분 발음을 하나하나 다 함. // 문법성 오늘날 독일어, 프랑스어 등에 있는 것.\n",
        "\n",
        "중세, 현대로 넘어가면서 점차 간편화됨. 동시에 고대 영어의 복잡함이 잔존.\n",
        "\n",
        "중세 : norman conquest 이후 영국에서는 3가지 언어가 쓰임. (norman french-지배계층, latin-성직자, english-평민) / the loss of normandy, 백년전쟁, 흑사병-농노계층의 신분상승 ; 프랑스의 영향으로부터 벗어나는 계기, 영어의 우세 // 장모음철자, 발음 등을 오늘날의 것에 가깝게 바꿔나감. 복잡한 형태를 줄여나가는 방식.\n",
        "\n",
        "현대 : 영국의 부흥, 식민지 건설, 세계 진출. 여러 나라와의 교류. 외래어. // 묵음이 많이 생김. / The Great Vowel Shift - 장모음의 완전소멸. 장모음이 모두 단모음으로.\n",
        "\n",
        "\n",
        "\n",
        "---\n",
        "\n",
        "요약 : 고대 영어는 독일어 영향. 매우 복잡. 단모음과 장모음 / 중세영어는 노르만족(프랑스)의 영향. 덜 복잡해지는 양상. 문법성이 점차 사라짐. / 현대 영어는 장모음이 사라지고 묵음이 많이 생겨남. 많은 외국어와의 교류로 철자가 복잡해짐.\n",
        "\n",
        "\n"
      ],
      "metadata": {
        "id": "q-HHy2UW-Ftv"
      }
    },
    {
      "cell_type": "markdown",
      "source": [
        "# 3주차 : 파이썬 기초. function(함수 ), operator, variation\n",
        "\n",
        "\n",
        "function(함수) : 필요한 인풋을 넣으면 특정한 액션을 취하는 애.\n",
        "\n",
        "operator(함수랑 기능은 똑같고 형태만 조금 다른 것) : + sign 특정한 문장부호, 기호, 단어 등으로 함수와 그 형태가 다르다.\n",
        "\n",
        "variable(변수) : 특정 데이터에 별명을 붙이는 것, 혹은 특정 컨테이너에 데이터를 저장해두는 것. = (assignment operator) 를 통해 지정. (마지막으로 지정한 값이 나옴.) // 다양한 데이터 - 숫자 (정수, 싱수), string (text 문자), boolean(참, 거짓), list (string처럼 여러 종류의 변수를 담고 있는 것. 문자 말고도 숫자, 불리안 등 그 어떤 종류의 데이터도 담을 수 있다.), dictionary (list와 달리 순서가 중요치 않다. 다만, 넣은 데이터에 각각 별명을 붙여놓음.)\n",
        "\n",
        "데이터 타입을 알고 싶다면 type 이라는 기본 함수 사용\n",
        "\n",
        "숫자 데이터 타입은 Integer, Floating-point number로 나누어져 있음. 정수, 소숫점\n",
        "\n",
        "\n",
        "Sequence : string, list를 가지고 여러가지 작업. operator : +, *등의 오퍼레이터는 숫자의 경우 계산을 하지만 문자의 경우 합치거나 반복하는 등 다른 기능을 함.\n",
        "\n",
        "- comparison : 타입이 다른 데이터는 비교가능하지만 비교 시 무조건 다르다고 나옴.\n",
        "\n",
        "- Accessing element : indexing(마이너스 부호값을 사용해 반대로 할 수도 있음), slicing(콜론 사용)\n",
        "\n",
        "- 값을 추가하거나 제거 (list only) : Updating Existing Element, Adding Elements, Deleting Elements\n",
        "\n",
        "- Other fuctions : len, replace (string only - a = a.(replace) 이런식으로 해주어야하는 점, split (string only)\n",
        "\n",
        "- ** 스트링을 쓸 때 ' \" 차이 없다.\n",
        "\n",
        "\n",
        "Mapping: Dictionary\n",
        "- key : string/ value는 아무거나. // dic 함수는 세 가지. keys(list와 비슷한 방식으로 데이터를 뽑아냄), values(, items.\n",
        "\n",
        "\n",
        "Boolean : 참, 거짓 분류\n",
        "- Comparison\n",
        "- condition\n",
        "- 오퍼레이터가 and, or, not 등처럼 단어로 된 것도 있다는 점. 함수의 기능을 수행."
      ],
      "metadata": {
        "id": "VXkOOhC3B4EW"
      }
    },
    {
      "cell_type": "code",
      "source": [
        "# Mapping exercise 2 - answer 2\n",
        "\n",
        "cart_2 = { \"Apple\": 2, \"Banana\": 1 }\n",
        "cart_2[\"Apple\"] += 1\n",
        "\n",
        "print(cart_2)\n"
      ],
      "metadata": {
        "colab": {
          "base_uri": "https://localhost:8080/"
        },
        "id": "bHJ9e3RPK2Zc",
        "outputId": "e3690927-ff06-48ac-89bb-5c2b1688a43a"
      },
      "execution_count": null,
      "outputs": [
        {
          "output_type": "stream",
          "name": "stdout",
          "text": [
            "{'Apple': 3, 'Banana': 1}\n"
          ]
        }
      ]
    },
    {
      "cell_type": "markdown",
      "source": [
        "# 4주차 control flows, functions\n",
        "*4주차 코드 돌아가 있는 것들은 다시 돌려야함\n",
        "\n",
        "Control Flows : 데이터 작업을 어떻게 할 것인지.\n",
        "- if문 : 특정 조건: print ~ (인덴트 중요!), if, else . 조건 여러개 elif\n",
        "/ 연습 문제 : 불리안 문제들과 똑같은데 이프문 사용하는 것. (한번실행)\n",
        "\n",
        "- for loop : 여러 조건들을 반복작업. (range 함수 : 특정 숫자를 리스트와 비슷한 형식으로 만들어줌) (break 함수 : for loop 중단) (연습문제 4번 if i % 2 == 0: >> 앞에값을 뒤에 값으로 나누었을 때 나머지와 0을 비교하는 것. 짝수 구분하는 조건)\n",
        "\n",
        "- while : 특정 조건을 만족하지 않을 때까지 계속 반복적으로 돌리는 것. 조건을 만족하는 한 계속 반복작업. (random package\n",
        "\n",
        "Functions : defining, calling, functions without input/output\n",
        "\n",
        "local scope / global scope : 함수 밖에서 만들어진 것들.\n",
        "\n",
        "\n",
        "return을 여러개 쓸 수 있지만 output이 겹치지 않게.\n"
      ],
      "metadata": {
        "id": "CE6A8l8wLztr"
      }
    },
    {
      "cell_type": "markdown",
      "source": [
        "# 5주차 : string formatting, file handling\n",
        "\n",
        "string formatting, list comprehension\n"
      ],
      "metadata": {
        "id": "zPoy2ceWXFZO"
      }
    },
    {
      "cell_type": "markdown",
      "source": [
        "# 6주차 : package & crawling\n",
        "\n",
        "우리의 웹사이트는 html이라는 것으로 만들어져있다. 이러한 코드를 보면 각각 꺽쇠로 표현되는 태그로 구성. 대부분의 텍스트는 p태그에.\n",
        "\n",
        "request / beautiful soup를 이용해서 정보를 뽑을 수 있다.\n",
        "\n",
        "그 밑에 metadata는 제외."
      ],
      "metadata": {
        "id": "OcUbDefiYhoM"
      }
    }
  ]
}