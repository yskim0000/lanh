{
  "nbformat": 4,
  "nbformat_minor": 0,
  "metadata": {
    "colab": {
      "provenance": [],
      "authorship_tag": "ABX9TyN4lEgjKkGeNq7aZfNTFlzl",
      "include_colab_link": true
    },
    "kernelspec": {
      "name": "python3",
      "display_name": "Python 3"
    },
    "language_info": {
      "name": "python"
    }
  },
  "cells": [
    {
      "cell_type": "markdown",
      "metadata": {
        "id": "view-in-github",
        "colab_type": "text"
      },
      "source": [
        "<a href=\"https://colab.research.google.com/github/yskim0000/lanh/blob/main/W5_0412.ipynb\" target=\"_parent\"><img src=\"https://colab.research.google.com/assets/colab-badge.svg\" alt=\"Open In Colab\"/></a>"
      ]
    },
    {
      "cell_type": "markdown",
      "source": [
        "# File  Handling\n",
        "\n"
      ],
      "metadata": {
        "id": "X0cDeZuq5wZQ"
      }
    },
    {
      "cell_type": "markdown",
      "source": [
        "File system : 문서, 이미지 등 여러 파일들을 폴더 구조로 정리.\n",
        "\n",
        "File path : /Users/user123/Desktop/a.txt\n",
        "\n",
        "Users > user123 > Desktop > a.txt (a.txt 파일의 경로) >> 맥, 리눅스 등 윈도우 제외한 시스템에서 많이 사용.  (절대경로)\n",
        "\n",
        "Relative Path ; 현재 위치한 곳에서 상대적으로 파일이 어디에 위치해있는지 표시."
      ],
      "metadata": {
        "id": "mPAPrizY68Jo"
      }
    },
    {
      "cell_type": "markdown",
      "source": [
        "**File Handling : f = open(pile_path, mode[읽기 쓰기 추가하기 등])**\n",
        "\n",
        "# open()\n",
        "\n",
        "A function used for opening and working with files\n",
        "\n",
        "file mode\n",
        "\n",
        "r: read mode\n",
        "\n",
        "w: write mode\n",
        "\n",
        "a: append mode"
      ],
      "metadata": {
        "id": "PC2henui-B0f"
      }
    },
    {
      "cell_type": "code",
      "source": [
        "f = open(\"./test.txt\", \"w\")\n",
        "f.close()  # You should close the file!"
      ],
      "metadata": {
        "id": "ywrvBpui6JX8"
      },
      "execution_count": null,
      "outputs": []
    },
    {
      "cell_type": "code",
      "source": [
        "f = open(\"./test.txt\", \"w\")\n",
        "f.write(\"Hello!\")\n",
        "f.close()"
      ],
      "metadata": {
        "id": "jwJn9eJ4-rCH"
      },
      "execution_count": null,
      "outputs": []
    },
    {
      "cell_type": "markdown",
      "source": [
        "You should close the file! 무조건 닫아주어야 함.\n",
        "이유 : 컴퓨터의 cpu(worker 뇌), memory(책상처럼 작업하는 공간. cpu가 data를 가지고 무언가를 할 수 있는 공간).\n",
        "파일을 안닫으면 메모리에 공간이 없어져서 cpu가 작업을 더이상 할 수 없게 됨\n",
        "\n",
        "이를 조금 더 수월하게 하기 위해 with 사용.\n",
        "\n"
      ],
      "metadata": {
        "id": "1oHYN1cQAzN5"
      }
    },
    {
      "cell_type": "code",
      "source": [
        "with open(\"./test.txt\", \"w\") as f:\n",
        "   f.write(\"Python\")\n",
        "   f.write(\" \")\n",
        "   f.write(\"Programming\")\n",
        "\n",
        "   #w, write는 기존의 파일 내용을 다 지워버리고 다시 쓰는 것. (이전의 Hello!는 지워짐) > 지우지 않으려면 Append 사용\n",
        "   #여러개 쓰면 한 줄로 씀\n"
      ],
      "metadata": {
        "id": "7oO3aSbcBMRL"
      },
      "execution_count": null,
      "outputs": []
    },
    {
      "cell_type": "code",
      "source": [
        "#Append mode\n",
        "with open(\"./test.txt\", \"a\") as f:\n",
        "  f. write(\"Hello Python\")"
      ],
      "metadata": {
        "id": "35_ZqR_gCEh5"
      },
      "execution_count": null,
      "outputs": []
    },
    {
      "cell_type": "code",
      "source": [
        "#New line ; 엔터 ; |n\n",
        "with open(\"./test.txt\", \"w\") as f:\n",
        "  f.write(\"Apple\\n\")\n",
        "  f.write(\"Banana\\n\")\n",
        "  f.write(\"Orange\\n\")\n",
        "\n"
      ],
      "metadata": {
        "id": "gbV83rTkCTtc"
      },
      "execution_count": null,
      "outputs": []
    },
    {
      "cell_type": "markdown",
      "source": [
        "# .read()\n",
        "\n",
        "A file object method that reads the entire contents of a file as a single string"
      ],
      "metadata": {
        "id": "FzID9tynC4n1"
      }
    },
    {
      "cell_type": "code",
      "source": [
        "with open(\"./test.txt\", \"r\") as f:\n",
        "  whole_contents = f.read()\n",
        "\n",
        "print(whole_contents)\n",
        "\n",
        "#{x}로 보면 whole_contents의 내용물은 \"Apple\\nBanana\\nOrange\\n\". 하나의 스트링으로 묶여있음.\n",
        "#한줄 한줄 서로 다른 변수에 담고 싶다면 read 대신 readlines 사용"
      ],
      "metadata": {
        "colab": {
          "base_uri": "https://localhost:8080/"
        },
        "id": "teWtlwEyDG7R",
        "outputId": "4b7b96a2-db42-4938-9a34-95ae99488f46"
      },
      "execution_count": null,
      "outputs": [
        {
          "output_type": "stream",
          "name": "stdout",
          "text": [
            "Apple\n",
            "Banana\n",
            "Orange\n",
            "\n"
          ]
        }
      ]
    },
    {
      "cell_type": "markdown",
      "source": [
        "# .readlines()\n",
        "A file object method that reads the lines of a file into a list"
      ],
      "metadata": {
        "id": "B2S7IAfQDmba"
      }
    },
    {
      "cell_type": "code",
      "source": [
        "with open(\"./test.txt\", \"r\") as f:\n",
        "  contents_list = f.readlines()\n",
        "\n",
        "print(contents_list)\n"
      ],
      "metadata": {
        "colab": {
          "base_uri": "https://localhost:8080/"
        },
        "id": "C6xFlMNgDi3_",
        "outputId": "fbef6d0b-1b6f-4076-db8c-68528054d209"
      },
      "execution_count": null,
      "outputs": [
        {
          "output_type": "stream",
          "name": "stdout",
          "text": [
            "['Apple\\n', 'Banana\\n', 'Orange\\n']\n"
          ]
        }
      ]
    },
    {
      "cell_type": "markdown",
      "source": [
        "텍스트 분석을 할 때 newline은 쓸모 없음.\n",
        "그래서 오히려 제거해주는 작업 필요.\n",
        ".strip 함수 사용 A string method that returns a string without leading and trailing whitespaces"
      ],
      "metadata": {
        "id": "hB_hzZdbGA_Z"
      }
    },
    {
      "cell_type": "code",
      "source": [
        "sentence = \"   Hello!\\n\"\n",
        "clean_sentence = sentence.strip()\n",
        "\n",
        "print(sentence)\n",
        "print(clean_sentence)"
      ],
      "metadata": {
        "colab": {
          "base_uri": "https://localhost:8080/"
        },
        "id": "9PIH4mFfER5u",
        "outputId": "ccc7b4f4-ad9b-49d1-eb59-99bfa6043728"
      },
      "execution_count": null,
      "outputs": [
        {
          "output_type": "stream",
          "name": "stdout",
          "text": [
            "   Hello!\n",
            "\n",
            "Hello!\n"
          ]
        }
      ]
    },
    {
      "cell_type": "code",
      "source": [
        "clean_contents_list = [contents.strip() for contents in contents_list] #list에서 반복작업 > for loop\n",
        "\n",
        "print(contents_list)\n",
        "print(clean_contents_list)"
      ],
      "metadata": {
        "colab": {
          "base_uri": "https://localhost:8080/"
        },
        "id": "MlYEJ6ipEitJ",
        "outputId": "f3f14a3c-c75f-4afd-e9c2-554d411bb9ae"
      },
      "execution_count": null,
      "outputs": [
        {
          "output_type": "stream",
          "name": "stdout",
          "text": [
            "['Apple\\n', 'Banana\\n', 'Orange\\n']\n",
            "['Apple', 'Banana', 'Orange']\n"
          ]
        }
      ]
    },
    {
      "cell_type": "markdown",
      "source": [
        "# List Comprehension\n",
        "\n",
        "A simple way to create lists that require for loops\n",
        "\n",
        "스트립에 사용\n"
      ],
      "metadata": {
        "id": "hUGc__bSGP49"
      }
    },
    {
      "cell_type": "code",
      "source": [
        "a = [1, 2, 3, 4]\n",
        "b = []  # desired result: [2, 3, 4, 5]\n",
        "\n",
        "for i in a:\n",
        "  b.append(i + 1)\n",
        "\n",
        "print(a)\n",
        "print(b)"
      ],
      "metadata": {
        "colab": {
          "base_uri": "https://localhost:8080/"
        },
        "id": "Pk74xy77GPeX",
        "outputId": "4d521181-eba7-4bdd-9f24-dd075a846ec4"
      },
      "execution_count": null,
      "outputs": [
        {
          "output_type": "stream",
          "name": "stdout",
          "text": [
            "[1, 2, 3, 4]\n",
            "[2, 3, 4, 5]\n"
          ]
        }
      ]
    },
    {
      "cell_type": "code",
      "source": [
        "# List comprehension\n",
        "\n",
        "new_b = [i + 1 for i in a]\n",
        "print(new_b)"
      ],
      "metadata": {
        "colab": {
          "base_uri": "https://localhost:8080/"
        },
        "id": "ty3AZN-aGWpz",
        "outputId": "410df45c-4579-4ca4-a57f-84baffe04991"
      },
      "execution_count": null,
      "outputs": [
        {
          "output_type": "stream",
          "name": "stdout",
          "text": [
            "[2, 3, 4, 5]\n"
          ]
        }
      ]
    },
    {
      "cell_type": "code",
      "source": [
        "result = [i.strip() for i in contents_list]\n",
        "#strip함수는 엔터뿐만이 아니라 공백을 다 없애줌\n"
      ],
      "metadata": {
        "id": "jN5hgOQgG5Jr"
      },
      "execution_count": null,
      "outputs": []
    },
    {
      "cell_type": "code",
      "source": [
        "#Exercise 4\n",
        "#Write each element from groceries to a file named grocery.txt.\n",
        "#Each element should occupy its own line.\n",
        "\n",
        "groceries = [\"Apples\", \"Breads\", \"Milk\"]\n",
        "\n",
        "# Start from here!\n",
        "\n",
        "groceries = [\"Apples\", \"Breads\", \"Milk\"]\n",
        "\n",
        "with open(\"./grocery.txt\", \"w\") as f:\n",
        "  for product in groceries:\n",
        "    f.write(f\"{product}\\n\")"
      ],
      "metadata": {
        "id": "FAgQj540HobB"
      },
      "execution_count": null,
      "outputs": []
    },
    {
      "cell_type": "markdown",
      "source": [
        "지금까지 배운 것을 토대로 응용 (시험에 메소드, 함수 구분하는 문제는 안냄)\n",
        "\n",
        "텍스트를 처리하는 것. 1. 텍스트를 파이썬으로 불러오는 것. 2. 웹사이트에서 텍스트를 뽑아오는 작업 (web crawling)"
      ],
      "metadata": {
        "id": "97xPk_KT5br9"
      }
    },
    {
      "cell_type": "markdown",
      "source": [
        "### **Week 6. Package & Crawling**"
      ],
      "metadata": {
        "id": "6ghe4SCwLpR-"
      }
    },
    {
      "cell_type": "markdown",
      "source": [
        "Built-in Functions"
      ],
      "metadata": {
        "id": "HNFR4iQaLuLg"
      }
    },
    {
      "cell_type": "code",
      "source": [
        "# print function\n",
        "print(\"Hello!\")\n",
        "\n",
        "# len function\n",
        "print(len(\"Hello!\"))\n",
        "\n",
        "# int function\n",
        "print(int(1.5))"
      ],
      "metadata": {
        "id": "TiYtiuffLpG8"
      },
      "execution_count": null,
      "outputs": []
    },
    {
      "cell_type": "markdown",
      "source": [
        "Package\n",
        "\n",
        "Built-in Functions만으로 모든 작업을 수행하기 어렵기 때문에 사용"
      ],
      "metadata": {
        "id": "wMdFdQzcMJK_"
      }
    },
    {
      "cell_type": "code",
      "source": [
        "import random #패키지의 이름\n",
        "\n",
        "print(random.randint(0, 9))"
      ],
      "metadata": {
        "colab": {
          "base_uri": "https://localhost:8080/"
        },
        "id": "bgFuG13gMg5q",
        "outputId": "ad005a2b-7af7-4eef-9681-642743562705"
      },
      "execution_count": null,
      "outputs": [
        {
          "output_type": "stream",
          "name": "stdout",
          "text": [
            "8\n"
          ]
        }
      ]
    },
    {
      "cell_type": "code",
      "source": [
        "import os  #특정 파일의 절대경로, 상대경로 구하기\n",
        "\n",
        "print(os.getcwd())"
      ],
      "metadata": {
        "colab": {
          "base_uri": "https://localhost:8080/"
        },
        "id": "3N8DPlJAMjN8",
        "outputId": "5bf608a5-a75c-48a0-b5b2-676f6f05ea56"
      },
      "execution_count": null,
      "outputs": [
        {
          "output_type": "stream",
          "name": "stdout",
          "text": [
            "/content\n"
          ]
        }
      ]
    },
    {
      "cell_type": "markdown",
      "source": [
        "##Crawling\n",
        "\n",
        "Website의 기본구조.\n",
        "\n",
        "HTML : 기본 골격구조\n",
        "\n",
        "CSS : 디자인\n",
        "\n",
        "JAVA : 유저와 상호작용. 유저가 버튼에 마우스를 갖다댄다거나 하는 특정활동을 하면 어떠한 활동을 해라.\n",
        "\n"
      ],
      "metadata": {
        "id": "Lnt_qERJMgqm"
      }
    },
    {
      "cell_type": "markdown",
      "source": [
        "HTML 의 <>는 태그라고 함\n",
        "\n",
        "이 태그는 <> </> 한 쌍\n",
        "\n",
        "여러가지 태그 중 집중해야할 태그 : 'p'태그 : 주로 텍스트를 담는다.\n",
        "\n",
        "특정 태그만 파이썬으로 추려오고 싶을 때 쓰는 파이썬 패키지 >> BeautifulSoup"
      ],
      "metadata": {
        "id": "j-nobm4VQSDa"
      }
    },
    {
      "cell_type": "code",
      "source": [
        "from bs4 import BeautifulSoup  #bs4라는 패키지 안에 BeautifulSoup 이라는 그룹을 가져와서 그 안에 있는 함수를 쓴다는 것."
      ],
      "metadata": {
        "id": "D-Wp9GhMO0T0"
      },
      "execution_count": null,
      "outputs": []
    },
    {
      "cell_type": "code",
      "source": [
        "with open(\"./myFirstWeb.html\", \"r\") as f:\n",
        "  content = f.read()\n",
        "  soup = BeautifulSoup(content, \"lxml\")"
      ],
      "metadata": {
        "id": "jv58pN4kQzHs"
      },
      "execution_count": null,
      "outputs": []
    },
    {
      "cell_type": "markdown",
      "source": [
        "Head"
      ],
      "metadata": {
        "id": "M6BuvJyaR-QQ"
      }
    },
    {
      "cell_type": "code",
      "source": [
        "print(soup.head)  #.head는 head내용을 담고 있는 string"
      ],
      "metadata": {
        "colab": {
          "base_uri": "https://localhost:8080/"
        },
        "id": "sdAO2_k5SAGc",
        "outputId": "b165a82b-f351-49b6-8aeb-eb97f87c6422"
      },
      "execution_count": null,
      "outputs": [
        {
          "output_type": "stream",
          "name": "stdout",
          "text": [
            "<head>\n",
            "<title>Basic Web Programming Example</title>\n",
            "<style>\n",
            "        /* CSS section for styling */\n",
            "        body {\n",
            "            font-family: Arial, sans-serif;\n",
            "            margin: 20px;\n",
            "            padding: 20px;\n",
            "            background-color: #f0f0f0;\n",
            "        }\n",
            "        h1 {\n",
            "            color: #333;\n",
            "        }\n",
            "        .content {\n",
            "            background-color: #fff;\n",
            "            padding: 20px;\n",
            "            margin-top: 20px;\n",
            "            border-radius: 8px;\n",
            "            box-shadow: 0 2px 4px rgba(0,0,0,0.1);\n",
            "        }\n",
            "        .button {\n",
            "            padding: 10px 20px;\n",
            "            background-color: #007bff;\n",
            "            color: white;\n",
            "            border: none;\n",
            "            border-radius: 5px;\n",
            "            cursor: pointer;\n",
            "        }\n",
            "        .button:hover {\n",
            "            background-color: #0056b3;\n",
            "        }\n",
            "    </style>\n",
            "</head>\n"
          ]
        }
      ]
    },
    {
      "cell_type": "code",
      "source": [
        "print(soup.head.title)"
      ],
      "metadata": {
        "colab": {
          "base_uri": "https://localhost:8080/"
        },
        "id": "Av1qLanQSErc",
        "outputId": "93dcea78-e718-4bac-a6d2-69bc706c1844"
      },
      "execution_count": null,
      "outputs": [
        {
          "output_type": "stream",
          "name": "stdout",
          "text": [
            "<title>Basic Web Programming Example</title>\n"
          ]
        }
      ]
    },
    {
      "cell_type": "code",
      "source": [
        "print(soup.head.title.get_text()) #text만. 웹 크롤링 할때는 이 문법을 써서 필요한 것을 가져오는 구나 정도만 알고있기"
      ],
      "metadata": {
        "colab": {
          "base_uri": "https://localhost:8080/"
        },
        "id": "vYBmHA7uSGs6",
        "outputId": "fe1dbb38-c330-4de0-9680-7a8e5389aa40"
      },
      "execution_count": null,
      "outputs": [
        {
          "output_type": "stream",
          "name": "stdout",
          "text": [
            "Basic Web Programming Example\n"
          ]
        }
      ]
    },
    {
      "cell_type": "markdown",
      "source": [
        "Text"
      ],
      "metadata": {
        "id": "4lvPGwjJSV-O"
      }
    },
    {
      "cell_type": "code",
      "source": [
        "paragraphs = soup.find_all(\"p\") #p태그"
      ],
      "metadata": {
        "id": "LayGArtqSWae"
      },
      "execution_count": null,
      "outputs": []
    },
    {
      "cell_type": "code",
      "source": [
        "for p in paragraphs:\n",
        "  print(p.get_text())"
      ],
      "metadata": {
        "colab": {
          "base_uri": "https://localhost:8080/"
        },
        "id": "6V1Vyd4RSXsy",
        "outputId": "03173615-cdc2-464f-f639-26232dcf2bc5"
      },
      "execution_count": null,
      "outputs": [
        {
          "output_type": "stream",
          "name": "stdout",
          "text": [
            "This is a simple example to demonstrate HTML, CSS, and JavaScript.\n",
            "\n"
          ]
        }
      ]
    },
    {
      "cell_type": "markdown",
      "source": [
        "requests\n",
        "\n",
        "웹사이트를 브라우저에서 키면 그 웹사이트의 코드들이 브라우저로 들어오는 것.\n",
        "\n",
        "접근을 해서 코드를 받아오고 그걸 추려내는 것.\n",
        "\n"
      ],
      "metadata": {
        "id": "5Vf8jaK-SiJ6"
      }
    },
    {
      "cell_type": "code",
      "source": [
        "import requests"
      ],
      "metadata": {
        "id": "L4IcmijASiqW"
      },
      "execution_count": null,
      "outputs": []
    },
    {
      "cell_type": "code",
      "source": [
        "response = requests.get(\"http://www.naver.com\") #파이썬은 브라우저가 아니니까 웹사이트에 코드를 요청하는 과정.\n",
        "\n",
        "print(response)"
      ],
      "metadata": {
        "colab": {
          "base_uri": "https://localhost:8080/"
        },
        "id": "HIuIcg9hSloK",
        "outputId": "6f333c2b-8ba8-4ec9-a05b-b610328514a0"
      },
      "execution_count": null,
      "outputs": [
        {
          "output_type": "stream",
          "name": "stdout",
          "text": [
            "<Response [200]>\n"
          ]
        }
      ]
    },
    {
      "cell_type": "code",
      "source": [
        "print(response.status_code)"
      ],
      "metadata": {
        "colab": {
          "base_uri": "https://localhost:8080/"
        },
        "id": "g9ZrONd8VXmS",
        "outputId": "4312f49c-d427-43a2-c85f-befd989405ba"
      },
      "execution_count": null,
      "outputs": [
        {
          "output_type": "stream",
          "name": "stdout",
          "text": [
            "200\n"
          ]
        }
      ]
    },
    {
      "cell_type": "code",
      "source": [
        "print(response.content)"
      ],
      "metadata": {
        "id": "l48aSFi2VZgP"
      },
      "execution_count": null,
      "outputs": []
    },
    {
      "cell_type": "code",
      "source": [
        "print(response.text)"
      ],
      "metadata": {
        "id": "GnM-CNQVVcaY"
      },
      "execution_count": null,
      "outputs": []
    },
    {
      "cell_type": "markdown",
      "source": [
        "Practice"
      ],
      "metadata": {
        "id": "EN0UdMfTWGcQ"
      }
    },
    {
      "cell_type": "code",
      "source": [
        "response = requests.get(\"https://en.wikipedia.org/wiki/Cat\") #웹사이트에 코드 요청\n",
        "\n",
        "soup = BeautifulSoup(response.content, \"lxml\") #이 코드의 내용(html)을 BeautifulSoup에 던져주는 것"
      ],
      "metadata": {
        "id": "a77Th-t8WK-e"
      },
      "execution_count": null,
      "outputs": []
    },
    {
      "cell_type": "code",
      "source": [
        "paragraphs = soup.find_all(\"p\")\n",
        "\n",
        "for p in paragraphs:\n",
        "  print(p.get_text())"
      ],
      "metadata": {
        "id": "5FX24uXyWOcq"
      },
      "execution_count": null,
      "outputs": []
    },
    {
      "cell_type": "code",
      "source": [
        "links = soup.find_all(\"a\") #a태그는 위키피디아 문서에서 넘어갈 수 있는 다른 링크들을 가져오는 것.\n",
        "                          #예를 들어 네이버에서 기사를 가져오는 것도 다 링크다."
      ],
      "metadata": {
        "id": "y_iG8K_bWfhm"
      },
      "execution_count": null,
      "outputs": []
    },
    {
      "cell_type": "code",
      "source": [
        "for link in links:\n",
        "  url = link.get(\"href\") #각각의 태그에 대해 href함수를 사용하면 주소들을 예쁘게 뽑을 수 있다.\n",
        "\n",
        "  if url != None and url.startswith(\"https\"): #이 부분은 넘어가기\n",
        "    print(link.get(\"href\"))"
      ],
      "metadata": {
        "id": "iaWe-lV-Wk3Q"
      },
      "execution_count": null,
      "outputs": []
    },
    {
      "cell_type": "markdown",
      "source": [
        "BeautifulSoup과 Request가 Webcrawling할 때는 아주 기본적인 패키지.\n",
        "\n",
        "다른 패키지를 써도 된다.\n",
        "\n",
        "ex. selenium 사람이 하는 일을 대신하는 것. 얘가 브라우저를 알아서 띄우고 버튼을 누르고 정보를 가져옴. (교보문고 리뷰)\n",
        "\n",
        "감정 분석, 단어 분석, 특수부호 없애는 작업 등"
      ],
      "metadata": {
        "id": "Mpw8ZJXBXaH0"
      }
    }
  ]
}