{
  "nbformat": 4,
  "nbformat_minor": 0,
  "metadata": {
    "colab": {
      "provenance": [],
      "authorship_tag": "ABX9TyP4iwNwplZRP/FiOdeXNv/P",
      "include_colab_link": true
    },
    "kernelspec": {
      "name": "python3",
      "display_name": "Python 3"
    },
    "language_info": {
      "name": "python"
    }
  },
  "cells": [
    {
      "cell_type": "markdown",
      "metadata": {
        "id": "view-in-github",
        "colab_type": "text"
      },
      "source": [
        "<a href=\"https://colab.research.google.com/github/yskim0000/lanh/blob/main/W5_0405.ipynb\" target=\"_parent\"><img src=\"https://colab.research.google.com/assets/colab-badge.svg\" alt=\"Open In Colab\"/></a>"
      ]
    },
    {
      "cell_type": "markdown",
      "source": [
        "엑서사이즈 문제 자체는 안나오지만, 답안 코드들이 뭐 하는 코드들인지 읽을 수 있어야 함\n",
        "\n",
        "답안 코드를 가지고 시험문제.\n",
        "\n",
        "\n",
        "---\n",
        "if문 복습\n",
        "\n",
        "추가로 필요할 시 else, elif 사용\n",
        "\n",
        "\n",
        "\n",
        "---\n",
        "# For loop\n",
        ": 반복작업 > 데이터 여러 개 필요. 데이터 여러개를 담는 sequence를 작업할 수 있는 것\n",
        "\n",
        "for element in sequence(리스트/스트링):\n",
        "  \n",
        "  code to run\n",
        "\n"
      ],
      "metadata": {
        "id": "XoJzfJEX2m-a"
      }
    },
    {
      "cell_type": "code",
      "source": [
        "for i in [1,2,3]:\n",
        "  print(i)                    #(반복작업을 돌면서) 각 시퀀스 안의 변수가 i안에 들어가는 것. indexing operator을 각각 사용하는 것보다 간단하게 값들을 낼 수 있다."
      ],
      "metadata": {
        "colab": {
          "base_uri": "https://localhost:8080/"
        },
        "id": "n6M9CKwM33p4",
        "outputId": "fbba33c8-54a0-4310-8a80-be04ca26198f"
      },
      "execution_count": null,
      "outputs": [
        {
          "output_type": "stream",
          "name": "stdout",
          "text": [
            "1\n",
            "2\n",
            "3\n"
          ]
        }
      ]
    },
    {
      "cell_type": "code",
      "source": [
        "for c in \"python\":\n",
        "  print(c)"
      ],
      "metadata": {
        "colab": {
          "base_uri": "https://localhost:8080/"
        },
        "id": "SwxVahV-7_Tf",
        "outputId": "5ca059b5-5060-40da-bbe1-a3a4c926564e"
      },
      "execution_count": null,
      "outputs": [
        {
          "output_type": "stream",
          "name": "stdout",
          "text": [
            "p\n",
            "y\n",
            "t\n",
            "h\n",
            "o\n",
            "n\n"
          ]
        }
      ]
    },
    {
      "cell_type": "markdown",
      "source": [
        "for loop을 더 쉽게 돌리는 것 / 순차적인 숫자 리스트를 만들어주는 것\n",
        "# > Range"
      ],
      "metadata": {
        "id": "ql2Uy8lq8mvs"
      }
    },
    {
      "cell_type": "code",
      "source": [
        "for i in range(4):\n",
        "  print(i)\n"
      ],
      "metadata": {
        "colab": {
          "base_uri": "https://localhost:8080/"
        },
        "id": "VepgSjZp8mX5",
        "outputId": "c62ac68a-e303-41a9-f3e5-c952c593a135"
      },
      "execution_count": null,
      "outputs": [
        {
          "output_type": "stream",
          "name": "stdout",
          "text": [
            "0\n",
            "1\n",
            "2\n",
            "3\n"
          ]
        }
      ]
    },
    {
      "cell_type": "code",
      "source": [
        "for j in range(1,4):\n",
        "  print(j)"
      ],
      "metadata": {
        "colab": {
          "base_uri": "https://localhost:8080/"
        },
        "id": "ndpBwrzw9A5X",
        "outputId": "cf3f4b75-5047-40c4-937b-cd94e9959570"
      },
      "execution_count": null,
      "outputs": [
        {
          "output_type": "stream",
          "name": "stdout",
          "text": [
            "1\n",
            "2\n",
            "3\n"
          ]
        }
      ]
    },
    {
      "cell_type": "markdown",
      "source": [
        "# >Break\n",
        "for loop을 돌다가 특정 숫자/문자에서 멈추게 하는 것\n",
        "loop을 깨뜨리는 것"
      ],
      "metadata": {
        "id": "1DHS5BxZ9oxr"
      }
    },
    {
      "cell_type": "code",
      "source": [
        "fruits = [\"apple\", \"banana\", \"orange\", \"cherry\"]\n",
        "\n",
        "for fruit in fruits:\n",
        "  if fruit == \"orange\":\n",
        "    print(\"You found an orange!\")\n",
        "    break  # Exit the loop after finding orange\n",
        "  else:\n",
        "    print(fruit)"
      ],
      "metadata": {
        "colab": {
          "base_uri": "https://localhost:8080/"
        },
        "id": "pd0MYMJa-BXW",
        "outputId": "a48802a9-574a-4417-c0ff-a05f78a276e6"
      },
      "execution_count": null,
      "outputs": [
        {
          "output_type": "stream",
          "name": "stdout",
          "text": [
            "apple\n",
            "banana\n",
            "You found an orange!\n"
          ]
        }
      ]
    },
    {
      "cell_type": "code",
      "source": [
        "#Q2\n",
        "#You manage a store and need to calculate the total sales from a list of daily sales figures.\n",
        "#Use for loop to accomplish this job.\n",
        "\n",
        "\n",
        "daily_sales = [1200, 850, 1500, 990, 1100]\n",
        "total_sales = 0\n",
        "\n",
        "for sale in daily_sales:\n",
        "  total_sales += sale  # total_sales = total_sales + sale (자기 자신에 새로운 무언가를 더한 것. 굉장히 자주 쓰임)\n",
        "\n",
        "print(\"total sales:\", total_sales)\n"
      ],
      "metadata": {
        "colab": {
          "base_uri": "https://localhost:8080/"
        },
        "id": "SeoC4WhW-evw",
        "outputId": "3c9465e5-0847-474e-c6d2-8deae46f2f45"
      },
      "execution_count": null,
      "outputs": [
        {
          "output_type": "stream",
          "name": "stdout",
          "text": [
            "total sales: 5640\n"
          ]
        }
      ]
    },
    {
      "cell_type": "code",
      "source": [
        "#더 간단하게 하는 법 (sum함수 이용하기) >> 알 필요는 없음. 나중에 코딩하게되면 훨씬 간단하게 짤 수 있는 방법.\n",
        "\n",
        "daily_sales = [1200, 850, 1500, 990, 1100]\n",
        "total_sales = 0\n",
        "\n",
        "total_sales = sum(daily_sales)\n",
        "print(total_sales)"
      ],
      "metadata": {
        "colab": {
          "base_uri": "https://localhost:8080/"
        },
        "id": "oZDdGSScCEg_",
        "outputId": "52fe5369-3b23-492e-91dd-58c84997de0c"
      },
      "execution_count": null,
      "outputs": [
        {
          "output_type": "stream",
          "name": "stdout",
          "text": [
            "5640\n"
          ]
        }
      ]
    },
    {
      "cell_type": "code",
      "source": [
        "#Q3\n",
        "\n",
        "sentence = \"The cat slept peacefully on the windowsill.\"\n",
        "num_vowels = 0\n",
        "\n",
        "for c in sentence:\n",
        "  if c in [ \"a\", \"e\", \"i\", \"o\", \"u\" ]:       #if문 안의 in은 operator. 이 리스트 안에 ??\n",
        "    num_vowels += 1\n",
        "\n",
        "print(\"number of vowels:\", num_vowels)"
      ],
      "metadata": {
        "colab": {
          "base_uri": "https://localhost:8080/"
        },
        "id": "SHFqNfxvDFEd",
        "outputId": "599a8a91-3efe-4a1a-a0bf-7dccae2c7ed0"
      },
      "execution_count": null,
      "outputs": [
        {
          "output_type": "stream",
          "name": "stdout",
          "text": [
            "number of vowels: 12\n"
          ]
        }
      ]
    },
    {
      "cell_type": "markdown",
      "source": [
        "# > While Loop\n",
        "\n",
        "시퀀스에 대해서 하는 게 아니라 특정 조건이 만족하지 않을 때까지 계속 도는 것.\n",
        "\n",
        "조건이 있어야 함. 조건에 부합하는 한 돌기 때문에 for loop과 달리 얼마나 도는지 알 수 없다.\n",
        "\n"
      ],
      "metadata": {
        "id": "NBGxc6hKDdtr"
      }
    },
    {
      "cell_type": "code",
      "source": [
        "i = 0\n",
        "\n",
        "while i < 5:     #i가 5가될때까지 i를 프린트하면서 계속 1씩 더해주는 것.\n",
        "  print(i)\n",
        "  i = i + 1"
      ],
      "metadata": {
        "colab": {
          "base_uri": "https://localhost:8080/"
        },
        "id": "apn4s1f3DX2d",
        "outputId": "cac8e3c1-5061-4911-96e2-2a4a3bbc84b5"
      },
      "execution_count": null,
      "outputs": [
        {
          "output_type": "stream",
          "name": "stdout",
          "text": [
            "0\n",
            "1\n",
            "2\n",
            "3\n",
            "4\n"
          ]
        }
      ]
    },
    {
      "cell_type": "code",
      "source": [
        "#while loop 특징\n",
        "\n",
        "import random         #파이썬 함수를 쓰기 위해 함수를 가져오는 것.\n",
        "\n",
        "i = 0\n",
        "\n",
        "while i < 20:\n",
        "  print(i)\n",
        "  random_int = random.randint(0, 9)     #특정 범위 내에서 아무 숫자나 뽑는 것. 이때는 9 포함.\n",
        "  i = i + random_int"
      ],
      "metadata": {
        "colab": {
          "base_uri": "https://localhost:8080/"
        },
        "id": "G4hE67fpE1Jv",
        "outputId": "3417691e-a865-471d-fe1a-8a11157fb7ea"
      },
      "execution_count": null,
      "outputs": [
        {
          "output_type": "stream",
          "name": "stdout",
          "text": [
            "0\n",
            "8\n",
            "13\n"
          ]
        }
      ]
    },
    {
      "cell_type": "code",
      "source": [
        "#Q2\n",
        "#Ensure the user enters a valid age (e.g., from 18 to 65).\n",
        "#Use input() function, while loop and break.\n",
        "\n",
        "while True:\n",
        "  age = int(input(\"Enter your age: \"))      #사용자가 나이를 적을때까지 저 문구가 뜨게끔 하는 것.\n",
        "   #input함수의 입력값이 안내문구. #int함수는 데이터타입을 정수로 해주는 함수 (input 함수에서 쓰이는 것이 스트링. 밑 18, 65와 비교할 수가 없으니까 인트로 해주는 것.)\n",
        "\n",
        "  if age >= 18 and age <= 65:\n",
        "    print(\"valid age!\")\n",
        "    break"
      ],
      "metadata": {
        "colab": {
          "base_uri": "https://localhost:8080/"
        },
        "id": "orxqbHvYF_G4",
        "outputId": "9f315056-71d3-4874-ccd6-7bfb810003e6"
      },
      "execution_count": null,
      "outputs": [
        {
          "output_type": "stream",
          "name": "stdout",
          "text": [
            "Enter your age: 20\n",
            "valid age!\n"
          ]
        }
      ]
    },
    {
      "cell_type": "markdown",
      "source": [
        "## Function\n",
        "\n",
        "**Defining Function**\n"
      ],
      "metadata": {
        "id": "exc2vt_3IwbA"
      }
    },
    {
      "cell_type": "code",
      "source": [
        "def add(x, y):\n",
        "  result = x + y\n",
        "  return result"
      ],
      "metadata": {
        "id": "JZHJikiVGY9D"
      },
      "execution_count": null,
      "outputs": []
    },
    {
      "cell_type": "markdown",
      "source": [
        "Calling Function : you can call (= use) the function you defined"
      ],
      "metadata": {
        "id": "A6IP7I9oJFB9"
      }
    },
    {
      "cell_type": "code",
      "source": [
        "print(add(1, 2))"
      ],
      "metadata": {
        "colab": {
          "base_uri": "https://localhost:8080/"
        },
        "id": "NY_B9XWRKXiT",
        "outputId": "cef82664-985c-40b6-b5b9-b250d8e88595"
      },
      "execution_count": null,
      "outputs": [
        {
          "output_type": "stream",
          "name": "stdout",
          "text": [
            "3\n"
          ]
        }
      ]
    },
    {
      "cell_type": "markdown",
      "source": [
        "**Functions without Outputs / Functions without Inputs**\n",
        "\n",
        "\n",
        "Not all functions have to return outputs or to receive inputs"
      ],
      "metadata": {
        "id": "7bQ-TRHiKZ00"
      }
    },
    {
      "cell_type": "code",
      "source": [
        "#former ex) print ((값을 print 하는 것과 return 하는 것은 다른 것!))\n",
        "\n",
        "def greetWithName(name):\n",
        "  print(\"Hello \" + name + \"!\")\n",
        "\n",
        "greetWithName(\"Python\")"
      ],
      "metadata": {
        "colab": {
          "base_uri": "https://localhost:8080/"
        },
        "id": "nLwz2JCuJCu5",
        "outputId": "289c1d88-0bb9-4ad6-a1a3-360b30f446a5"
      },
      "execution_count": null,
      "outputs": [
        {
          "output_type": "stream",
          "name": "stdout",
          "text": [
            "Hello Python!\n"
          ]
        }
      ]
    },
    {
      "cell_type": "code",
      "source": [
        "#former and latter\n",
        "\n",
        "def greet():\n",
        "  print(\"Hello!\")\n",
        "\n",
        "greet()\n"
      ],
      "metadata": {
        "colab": {
          "base_uri": "https://localhost:8080/"
        },
        "id": "mplfYorFMhqz",
        "outputId": "e8056089-79c5-40d0-bfae-8150afbee383"
      },
      "execution_count": null,
      "outputs": [
        {
          "output_type": "stream",
          "name": "stdout",
          "text": [
            "Hello!\n"
          ]
        }
      ]
    },
    {
      "cell_type": "markdown",
      "source": [
        "# Scope 범위\n",
        "\n",
        "Scopes define the visibility and accessibility of variables throughout your code\n",
        "\n",
        "**Local Scope**\n",
        "\n",
        "Variables declared inside a function are only accessible within that function\n",
        "\n",
        "함수 내에서 만든 변수들은 함수를 실행할때만 쓰이고 그 바깥에서는 접근하지 못함. : local variable"
      ],
      "metadata": {
        "id": "FCW03wceMrA0"
      }
    },
    {
      "cell_type": "code",
      "source": [
        "def calculate_area(length, width):\n",
        "  area = length * width  # Local variables\n",
        "  return area\n",
        "\n",
        "result = calculate_area(5, 3)\n",
        "print(result)\n",
        "\n",
        "# This will cause an error\n",
        "# print(area)\n",
        "# print(length)\n",
        "# print(width)"
      ],
      "metadata": {
        "id": "zWvuTxOVPCrQ"
      },
      "execution_count": null,
      "outputs": []
    },
    {
      "cell_type": "markdown",
      "source": [
        "**Global Scope**\n",
        "\n",
        "Global variables are declared outside of any function, typically at the beginning of the script\n",
        "\n",
        "They are accessible from anywhere within the script, including all functions"
      ],
      "metadata": {
        "id": "PwaQujxSO9I8"
      }
    },
    {
      "cell_type": "code",
      "source": [
        "# Global variables\n",
        "length = 5\n",
        "width = 3\n",
        "\n",
        "def calculate_another_area():\n",
        "  return length * width\n",
        "\n",
        "another_result = calculate_another_area()\n",
        "print(another_result)"
      ],
      "metadata": {
        "id": "nT29mxZKPBq3"
      },
      "execution_count": null,
      "outputs": []
    },
    {
      "cell_type": "markdown",
      "source": [
        "Q4.\n",
        "Define a function that takes the numerical score and returns the corresponding letter grade.\n",
        "\n",
        "Grade thresholds:\n",
        "A: 90 ~ 100\n",
        "B: 80 ~ 89\n",
        "C: 70 ~ 79\n",
        "D: 60 ~ 69\n",
        "F: 0 ~ 60"
      ],
      "metadata": {
        "id": "zwBrZYzlPWcH"
      }
    },
    {
      "cell_type": "code",
      "source": [
        "def convert_grade(score):\n",
        "  if score >= 90:\n",
        "    return \"A\"\n",
        "  elif score >= 80:\n",
        "    return \"B\"\n",
        "  elif score >= 70:\n",
        "    return \"C\"\n",
        "  elif score >= 60:\n",
        "    return \"D\"\n",
        "  else:\n",
        "    return \"F\"\n",
        "  print(\"Hello\")          #print함수가 실행되지않는 이유: return 에서 실행이 한번 되면 그 밑은 실행하지 않음\n",
        "\n",
        "convert_grade(90)\n"
      ],
      "metadata": {
        "colab": {
          "base_uri": "https://localhost:8080/",
          "height": 36
        },
        "id": "7lOuG8pcMzeK",
        "outputId": "859f69e7-62d9-4712-8061-e48e0c31a0bd"
      },
      "execution_count": null,
      "outputs": [
        {
          "output_type": "execute_result",
          "data": {
            "text/plain": [
              "'A'"
            ],
            "application/vnd.google.colaboratory.intrinsic+json": {
              "type": "string"
            }
          },
          "metadata": {},
          "execution_count": 26
        }
      ]
    },
    {
      "cell_type": "markdown",
      "source": [
        "# Week 5. String Formatting & File Handling\n",
        "\n",
        "text 분석의 가장 기초\n",
        "\n",
        "\n",
        "**String Formatting**\n",
        "\n",
        "The process of creating dynamic strings without the need to manually concatenate multiple strings (뽑고 싶은 스트링을 어떻게 뽑을지)\n",
        "\n",
        "- String Concatenation\n",
        "\n",
        "\n"
      ],
      "metadata": {
        "id": "WLfixEgaQw1x"
      }
    },
    {
      "cell_type": "markdown",
      "source": [
        "**.format()**\n",
        "\n",
        "Uses curly braces {} as placeholders within the string\n",
        "\n",
        "(변수를 넣고싶은 부분에 중괄호 쓰고, 뒤에 format이라는 method를 쓰는 것. format괄호에 넣고싶은 변수를 쓰는 것.)\n",
        "\n",
        "Placeholders are replaced with values"
      ],
      "metadata": {
        "id": "jxuaUoPmSmZ_"
      }
    },
    {
      "cell_type": "code",
      "source": [
        "# This is not string formatting!\n",
        "\n",
        "name = \"python\"\n",
        "sentence = \"Hello, welcome to \" + name + \" programming!\"\n",
        "\n",
        "# You have to concatenate strings to create a message\n",
        "print(sentence)\n",
        "\n",
        "\n",
        "# This is not string formatting!\n",
        "\n",
        "name = \"python\"\n",
        "\n",
        "# You have to concatenate strings to create a message\n",
        "print(\"Hello, welcome to\", name, \"programming!\")"
      ],
      "metadata": {
        "colab": {
          "base_uri": "https://localhost:8080/"
        },
        "id": "i2cexw2XTLS-",
        "outputId": "8def733a-5f76-49c2-e0f5-ff37d9dbff1c"
      },
      "execution_count": null,
      "outputs": [
        {
          "output_type": "stream",
          "name": "stdout",
          "text": [
            "Hello, welcome to python programming!\n",
            "Hello, welcome to python programming!\n"
          ]
        }
      ]
    },
    {
      "cell_type": "code",
      "source": [
        "sentence = \"Hello, welcome to {} programming!\".format(name)\n",
        "print(sentence)"
      ],
      "metadata": {
        "colab": {
          "base_uri": "https://localhost:8080/"
        },
        "id": "9qyyUAtqSlUx",
        "outputId": "cb1fa7c6-0f61-4918-ab3c-2a01863a95d1"
      },
      "execution_count": null,
      "outputs": [
        {
          "output_type": "stream",
          "name": "stdout",
          "text": [
            "Hello, welcome to python programming!\n"
          ]
        }
      ]
    },
    {
      "cell_type": "code",
      "source": [
        "name_2 = \"java\"\n",
        "print(\"Welcome to {} programming!\".format(name_2))\n"
      ],
      "metadata": {
        "colab": {
          "base_uri": "https://localhost:8080/"
        },
        "id": "lpJHEWJMTTsA",
        "outputId": "e5842eea-43d4-4715-a5f2-13035342647f"
      },
      "execution_count": null,
      "outputs": [
        {
          "output_type": "stream",
          "name": "stdout",
          "text": [
            "Welcome to java programming!\n"
          ]
        }
      ]
    },
    {
      "cell_type": "markdown",
      "source": [
        "**f-string**\n",
        "\n",
        "Introduced in Python 3.6 (최근 거라 더 간단)  (.format필요없이 f만 사용하면 됨.)\n",
        "\n",
        "Variables and expressions are embedded directly within curly braces\n",
        "\n",
        "*스트링이 아니더라도 다양한 값을 가지고 있거나 값을 리턴하는 애들도 사용할 수 있다."
      ],
      "metadata": {
        "id": "wYDcYw7qT3Nv"
      }
    },
    {
      "cell_type": "code",
      "source": [
        "sentence = f\"Hello, welcome to {name} programming!\"\n",
        "print(sentence)"
      ],
      "metadata": {
        "colab": {
          "base_uri": "https://localhost:8080/"
        },
        "id": "90My15RZQwpK",
        "outputId": "10e05b32-7750-43d1-cfea-82571c51a069"
      },
      "execution_count": null,
      "outputs": [
        {
          "output_type": "stream",
          "name": "stdout",
          "text": [
            "Hello, welcome to python programming!\n"
          ]
        }
      ]
    },
    {
      "cell_type": "code",
      "source": [
        "print(f\"result:{1+2}\")"
      ],
      "metadata": {
        "colab": {
          "base_uri": "https://localhost:8080/"
        },
        "id": "DGAXeLASUKo8",
        "outputId": "89bcf433-d619-486a-ea05-9f40d1042e33"
      },
      "execution_count": null,
      "outputs": [
        {
          "output_type": "stream",
          "name": "stdout",
          "text": [
            "result:3\n"
          ]
        }
      ]
    },
    {
      "cell_type": "code",
      "source": [
        "print(f\"result: {len('hi')}\")"
      ],
      "metadata": {
        "colab": {
          "base_uri": "https://localhost:8080/"
        },
        "id": "43OZHl4CUVbV",
        "outputId": "7d4edbeb-0cf5-460a-a540-5bd1dab7f394"
      },
      "execution_count": null,
      "outputs": [
        {
          "output_type": "stream",
          "name": "stdout",
          "text": [
            "result: 2\n"
          ]
        }
      ]
    },
    {
      "cell_type": "code",
      "source": [],
      "metadata": {
        "id": "JbWEYPwIUfZm"
      },
      "execution_count": null,
      "outputs": []
    }
  ]
}